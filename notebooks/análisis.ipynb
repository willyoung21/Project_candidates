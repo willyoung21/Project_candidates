{
 "cells": [
  {
   "cell_type": "markdown",
   "metadata": {},
   "source": [
    "As a first step we establish the connection to the database from db_connection and import establish_connection"
   ]
  },
  {
   "cell_type": "code",
   "execution_count": 1,
   "metadata": {},
   "outputs": [],
   "source": [
    "import pandas as pd\n",
    "import sys\n",
    "import os\n",
    "sys.path.append(os.path.abspath(os.path.join('..', 'src')))\n",
    "from db_conexion import establecer_conexion"
   ]
  },
  {
   "cell_type": "markdown",
   "metadata": {},
   "source": [
    "Since it is established, we do a SQL query of the candidates table and read the files"
   ]
  },
  {
   "cell_type": "code",
   "execution_count": 2,
   "metadata": {},
   "outputs": [
    {
     "name": "stdout",
     "output_type": "stream",
     "text": [
      "Conexion exitosa a la base de datos\n"
     ]
    },
    {
     "name": "stderr",
     "output_type": "stream",
     "text": [
      "C:\\Users\\USUARIO\\AppData\\Local\\Temp\\ipykernel_29792\\2883101749.py:7: UserWarning: pandas only supports SQLAlchemy connectable (engine/connection) or database string URI or sqlite3 DBAPI2 connection. Other DBAPI2 objects are not tested. Please consider using SQLAlchemy.\n",
      "  df = pd.read_sql_query(query, conn)\n"
     ]
    }
   ],
   "source": [
    "conn, cursor = establecer_conexion()\n",
    "\n",
    "# Consulta SQL para seleccionar los datos\n",
    "query = \"SELECT * FROM candidates\"\n",
    "\n",
    "# Leer los datos en un DataFrame de pandas\n",
    "df = pd.read_sql_query(query, conn)"
   ]
  },
  {
   "cell_type": "markdown",
   "metadata": {},
   "source": [
    "These lines of code in Jupyter are for testing before passing them to Visualizations.py\n",
    "\n",
    "In these lines of code we do the test to first know the data that we are going to handle.\n",
    "We load the dataset, and configure it so that it can be seen in rows and columns, giving it the parameter that only shows me the first 20"
   ]
  },
  {
   "cell_type": "code",
   "execution_count": null,
   "metadata": {},
   "outputs": [],
   "source": [
    "import pandas as pd\n",
    "import matplotlib.pyplot as plt\n",
    "\n",
    "\n",
    "# Configurar pandas para mostrar más filas y columnas\n",
    "pd.set_option('display.max_rows', 100)\n",
    "pd.set_option('display.max_columns', None)\n",
    "pd.set_option('display.width', None)\n",
    "\n",
    "# Mostrar las primeras 20 filas en formato tabular\n",
    "df.head(20)"
   ]
  },
  {
   "cell_type": "markdown",
   "metadata": {},
   "source": [
    "This code creates a pie chart using matplotlib as a test, giving it the Technology parameter to \n",
    "be able to see hiring by technology"
   ]
  },
  {
   "cell_type": "code",
   "execution_count": null,
   "metadata": {},
   "outputs": [],
   "source": [
    "import pandas as pd\n",
    "import matplotlib.pyplot as plt\n",
    "\n",
    "\n",
    "#Crear gráfico circular\n",
    "plt.figure(figsize=(10, 7))\n",
    "df['technology'].value_counts().plot(kind='pie', autopct='%1.1f%%')\n",
    "plt.title('Contrataciones por Tecnología')\n",
    "plt.ylabel('')\n",
    "plt.show()"
   ]
  },
  {
   "cell_type": "markdown",
   "metadata": {},
   "source": [
    "This code creates a horizontal bar graph of the number of hires per year"
   ]
  },
  {
   "cell_type": "code",
   "execution_count": null,
   "metadata": {},
   "outputs": [],
   "source": [
    "#Contrataciones por Año (Gráfico de Barras Horizontales)\n",
    "\n",
    "# Convertir 'application_date' a tipo datetime\n",
    "df['application_date'] = pd.to_datetime(df['application_date'])\n",
    "\n",
    "# Extraer el año\n",
    "df['year'] = df['application_date'].dt.year\n",
    "\n",
    "# Crear gráfico de barras horizontales\n",
    "plt.figure(figsize=(10, 7))\n",
    "df['year'].value_counts().sort_index().plot(kind='barh')\n",
    "plt.title('Contrataciones por Año')\n",
    "plt.xlabel('Número de Contrataciones')\n",
    "plt.ylabel('Año')\n",
    "plt.show()\n"
   ]
  },
  {
   "cell_type": "markdown",
   "metadata": {},
   "source": [
    "This code creates a vertical bar graph to see hiring by seniority"
   ]
  },
  {
   "cell_type": "code",
   "execution_count": null,
   "metadata": {},
   "outputs": [],
   "source": [
    "#Contrataciones por Antigüedad (Gráfico de Barras)\n",
    "\n",
    "# Crear gráfico de barras\n",
    "plt.figure(figsize=(10, 7))\n",
    "df['seniority'].value_counts().plot(kind='bar')\n",
    "plt.title('Contrataciones por Antigüedad')\n",
    "plt.xlabel('Antigüedad')\n",
    "plt.ylabel('Número de Contrataciones')\n",
    "plt.show()\n"
   ]
  },
  {
   "cell_type": "markdown",
   "metadata": {},
   "source": [
    "This code creates a multilinear graph of hiring by country over the years.\n",
    "The countries in which this visualization focused were: United States, Colombia, Ecuador, Brazil"
   ]
  },
  {
   "cell_type": "code",
   "execution_count": null,
   "metadata": {},
   "outputs": [],
   "source": [
    "#Contrataciones por País Durante Años (Gráfico Multilínea)\n",
    "\n",
    "# Filtrar por países específicos\n",
    "countries = ['United States', 'Brazil', 'Colombia', 'Ecuador']\n",
    "df_filtered = df[df['country'].isin(countries)]\n",
    "\n",
    "# Crear gráfico multilínea\n",
    "plt.figure(figsize=(14, 8))\n",
    "for country in countries:\n",
    "    country_df = df_filtered[df_filtered['country'] == country]\n",
    "    country_df.groupby('year').size().plot(label=country)\n",
    "\n",
    "plt.title('Contrataciones por País Durante Años')\n",
    "plt.xlabel('Año')\n",
    "plt.ylabel('Número de Contrataciones')\n",
    "plt.legend()\n",
    "plt.show()\n"
   ]
  }
 ],
 "metadata": {
  "kernelspec": {
   "display_name": ".venv",
   "language": "python",
   "name": "python3"
  },
  "language_info": {
   "codemirror_mode": {
    "name": "ipython",
    "version": 3
   },
   "file_extension": ".py",
   "mimetype": "text/x-python",
   "name": "python",
   "nbconvert_exporter": "python",
   "pygments_lexer": "ipython3",
   "version": "3.11.5"
  }
 },
 "nbformat": 4,
 "nbformat_minor": 2
}
