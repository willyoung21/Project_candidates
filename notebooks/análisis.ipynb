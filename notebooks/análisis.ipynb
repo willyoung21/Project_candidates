{
 "cells": [
  {
   "cell_type": "markdown",
   "metadata": {},
   "source": [
    "As a first step we establish the connection to the database from db_connection and import establish_connection"
   ]
  },
  {
   "cell_type": "code",
   "execution_count": 5,
   "metadata": {},
   "outputs": [],
   "source": [
    "import sys\n",
    "import os\n",
    "import pandas as pd\n",
    "\n",
    "# Agregar el directorio 'src' al path\n",
    "sys.path.append(os.path.abspath(os.path.join('..', 'src')))"
   ]
  },
  {
   "cell_type": "markdown",
   "metadata": {},
   "source": [
    "Since it is established, we do a SQL query of the candidates table and read the files"
   ]
  },
  {
   "cell_type": "code",
   "execution_count": 6,
   "metadata": {},
   "outputs": [],
   "source": [
    "from eda import df_unique_emails  "
   ]
  },
  {
   "cell_type": "markdown",
   "metadata": {},
   "source": [
    "These lines of code in Jupyter are for testing before passing them to Visualizations.py\n",
    "\n",
    "In these lines of code we do the test to first know the data that we are going to handle.\n",
    "We load the dataset, and configure it so that it can be seen in rows and columns, giving it the parameter that only shows me the first 20"
   ]
  },
  {
   "cell_type": "code",
   "execution_count": null,
   "metadata": {},
   "outputs": [],
   "source": [
    "# Consulta SQL para seleccionar los datos\n",
    "query = \"SELECT * FROM candidates\"\n",
    "\n",
    "# Leer los datos en un DataFrame de pandas utilizando la conexión a la base de datos\n",
    "df_unique_emails = df_unique_emails\n",
    "\n",
    "# Verifica que se haya cargado correctamente\n",
    "print(df_unique_emails.head(20))"
   ]
  },
  {
   "cell_type": "markdown",
   "metadata": {},
   "source": [
    "This code creates a pie chart using matplotlib as a test, giving it the Technology parameter to \n",
    "be able to see hiring by technology"
   ]
  },
  {
   "cell_type": "code",
   "execution_count": null,
   "metadata": {},
   "outputs": [],
   "source": [
    "import pandas as pd\n",
    "import matplotlib.pyplot as plt\n",
    "\n",
    "\n",
    "#Crear gráfico circular\n",
    "plt.figure(figsize=(10, 7))\n",
    "df_unique_emails['technology'].value_counts().plot(kind='pie', autopct='%1.1f%%')\n",
    "plt.title('Contrataciones por Tecnología')\n",
    "plt.ylabel('')\n",
    "plt.show()"
   ]
  },
  {
   "cell_type": "markdown",
   "metadata": {},
   "source": [
    "This code creates a horizontal bar graph of the number of hires per year"
   ]
  },
  {
   "cell_type": "code",
   "execution_count": null,
   "metadata": {},
   "outputs": [],
   "source": [
    "#Contrataciones por Año (Gráfico de Barras Horizontales)\n",
    "\n",
    "# Convertir 'application_date' a tipo datetime\n",
    "df['application_date'] = pd.to_datetime(df['application_date'])\n",
    "\n",
    "# Extraer el año\n",
    "df['year'] = df['application_date'].dt.year\n",
    "\n",
    "# Crear gráfico de barras horizontales\n",
    "plt.figure(figsize=(10, 7))\n",
    "df['year'].value_counts().sort_index().plot(kind='barh')\n",
    "plt.title('Contrataciones por Año')\n",
    "plt.xlabel('Número de Contrataciones')\n",
    "plt.ylabel('Año')\n",
    "plt.show()\n"
   ]
  },
  {
   "cell_type": "markdown",
   "metadata": {},
   "source": [
    "This code creates a vertical bar graph to see hiring by seniority"
   ]
  },
  {
   "cell_type": "code",
   "execution_count": null,
   "metadata": {},
   "outputs": [],
   "source": [
    "#Contrataciones por Antigüedad (Gráfico de Barras)\n",
    "\n",
    "# Crear gráfico de barras\n",
    "plt.figure(figsize=(10, 7))\n",
    "df['seniority'].value_counts().plot(kind='bar')\n",
    "plt.title('Contrataciones por Antigüedad')\n",
    "plt.xlabel('Antigüedad')\n",
    "plt.ylabel('Número de Contrataciones')\n",
    "plt.show()\n"
   ]
  },
  {
   "cell_type": "markdown",
   "metadata": {},
   "source": [
    "This code creates a multilinear graph of hiring by country over the years.\n",
    "The countries in which this visualization focused were: United States, Colombia, Ecuador, Brazil"
   ]
  },
  {
   "cell_type": "code",
   "execution_count": null,
   "metadata": {},
   "outputs": [],
   "source": [
    "#Contrataciones por País Durante Años (Gráfico Multilínea)\n",
    "\n",
    "# Filtrar por países específicos\n",
    "countries = ['United States', 'Brazil', 'Colombia', 'Ecuador']\n",
    "df_filtered = df[df['country'].isin(countries)]\n",
    "\n",
    "# Crear gráfico multilínea\n",
    "plt.figure(figsize=(14, 8))\n",
    "for country in countries:\n",
    "    country_df = df_filtered[df_filtered['country'] == country]\n",
    "    country_df.groupby('year').size().plot(label=country)\n",
    "\n",
    "plt.title('Contrataciones por País Durante Años')\n",
    "plt.xlabel('Año')\n",
    "plt.ylabel('Número de Contrataciones')\n",
    "plt.legend()\n",
    "plt.show()\n"
   ]
  }
 ],
 "metadata": {
  "kernelspec": {
   "display_name": ".venv",
   "language": "python",
   "name": "python3"
  },
  "language_info": {
   "codemirror_mode": {
    "name": "ipython",
    "version": 3
   },
   "file_extension": ".py",
   "mimetype": "text/x-python",
   "name": "python",
   "nbconvert_exporter": "python",
   "pygments_lexer": "ipython3",
   "version": "3.11.5"
  }
 },
 "nbformat": 4,
 "nbformat_minor": 2
}
